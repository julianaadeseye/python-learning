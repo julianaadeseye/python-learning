{
 "cells": [
  {
   "cell_type": "markdown",
   "id": "c8e8a3f4",
   "metadata": {},
   "source": [
    "print(\"I love Kachukwu\")"
   ]
  },
  {
   "cell_type": "code",
   "execution_count": 1,
   "id": "5c879040",
   "metadata": {},
   "outputs": [
    {
     "name": "stdout",
     "output_type": "stream",
     "text": [
      "kachi is my heart\n"
     ]
    }
   ],
   "source": [
    "print(\"kachi is my heart\")"
   ]
  },
  {
   "cell_type": "code",
   "execution_count": 31,
   "id": "064e7c48",
   "metadata": {},
   "outputs": [],
   "source": [
    "Boyfriend =\"Kachukwukosime Emmanuel Okoh\""
   ]
  },
  {
   "cell_type": "code",
   "execution_count": 32,
   "id": "e38d3c62",
   "metadata": {},
   "outputs": [
    {
     "name": "stdout",
     "output_type": "stream",
     "text": [
      "Kachukwukosime Emmanuel Okoh\n"
     ]
    }
   ],
   "source": [
    "print(Boyfriend)"
   ]
  },
  {
   "cell_type": "code",
   "execution_count": 35,
   "id": "af68507a",
   "metadata": {},
   "outputs": [],
   "source": [
    "jinx = 6"
   ]
  },
  {
   "cell_type": "code",
   "execution_count": 36,
   "id": "fb4adb0b",
   "metadata": {},
   "outputs": [
    {
     "ename": "TypeError",
     "evalue": "unsupported operand type(s) for +: 'int' and 'str'",
     "output_type": "error",
     "traceback": [
      "\u001b[1;31m---------------------------------------------------------------------------\u001b[0m",
      "\u001b[1;31mTypeError\u001b[0m                                 Traceback (most recent call last)",
      "Cell \u001b[1;32mIn[36], line 1\u001b[0m\n\u001b[1;32m----> 1\u001b[0m \u001b[38;5;28mprint\u001b[39m(\u001b[43mjinx\u001b[49m\u001b[38;5;241;43m+\u001b[39;49m\u001b[43mBoyfriend\u001b[49m)\n",
      "\u001b[1;31mTypeError\u001b[0m: unsupported operand type(s) for +: 'int' and 'str'"
     ]
    }
   ],
   "source": [
    "print(jinx+Boyfriend)"
   ]
  },
  {
   "cell_type": "code",
   "execution_count": 25,
   "id": "4fd5d550",
   "metadata": {
    "scrolled": true
   },
   "outputs": [
    {
     "ename": "SyntaxError",
     "evalue": "invalid syntax (3106952773.py, line 1)",
     "output_type": "error",
     "traceback": [
      "\u001b[1;36m  Cell \u001b[1;32mIn[25], line 1\u001b[1;36m\u001b[0m\n\u001b[1;33m    def school=\"Hamoye\"\u001b[0m\n\u001b[1;37m              ^\u001b[0m\n\u001b[1;31mSyntaxError\u001b[0m\u001b[1;31m:\u001b[0m invalid syntax\n"
     ]
    }
   ],
   "source": [
    "def school=\"Hamoye\"\n"
   ]
  },
  {
   "cell_type": "code",
   "execution_count": 39,
   "id": "e8beadc9",
   "metadata": {},
   "outputs": [
    {
     "name": "stdout",
     "output_type": "stream",
     "text": [
      "13\n"
     ]
    }
   ],
   "source": [
    "print(jinx+kk)"
   ]
  },
  {
   "cell_type": "code",
   "execution_count": 37,
   "id": "d3b8fb43",
   "metadata": {},
   "outputs": [],
   "source": [
    "kk= 7"
   ]
  },
  {
   "cell_type": "markdown",
   "id": "ab392d0a",
   "metadata": {},
   "source": [
    "print"
   ]
  },
  {
   "cell_type": "code",
   "execution_count": 30,
   "id": "3277823d",
   "metadata": {
    "scrolled": true
   },
   "outputs": [
    {
     "data": {
      "text/plain": [
       "'Boy_friennd'"
      ]
     },
     "execution_count": 30,
     "metadata": {},
     "output_type": "execute_result"
    }
   ],
   "source": [
    "\"Boy_friennd\""
   ]
  }
 ],
 "metadata": {
  "kernelspec": {
   "display_name": "Python 3 (ipykernel)",
   "language": "python",
   "name": "python3"
  },
  "language_info": {
   "codemirror_mode": {
    "name": "ipython",
    "version": 3
   },
   "file_extension": ".py",
   "mimetype": "text/x-python",
   "name": "python",
   "nbconvert_exporter": "python",
   "pygments_lexer": "ipython3",
   "version": "3.10.9"
  }
 },
 "nbformat": 4,
 "nbformat_minor": 5
}
